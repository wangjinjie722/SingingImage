{
 "cells": [
  {
   "cell_type": "markdown",
   "metadata": {
    "collapsed": false
   },
   "source": [
    "# 不停弹出TF框架 那就手动依次执行代码 等待转圈结束再执行下一个 这样的话检测几率会小一点"
   ]
  },
  {
   "cell_type": "markdown",
   "metadata": {
    "collapsed": false
   },
   "source": [
    "# 简介"
   ]
  },
  {
   "cell_type": "markdown",
   "metadata": {
    "collapsed": false
   },
   "source": [
    ">  原百度AI项目地址（B站id:xiaoxu12315）：[点我](https://aistudio.baidu.com/aistudio/projectdetail/745434)\n",
    "\n",
    ">Github作者:[我](https://github.com/AliaksandrSiarohin/first-order-model)还有[我](https://github.com/dunnousername/yanderifier)\n",
    "\n",
    ">  B站教程：[点我](https://www.bilibili.com/video/BV1Mv41117LV)\n",
    "\n",
    "> 此版本为匹配B站视频教学，基于xiaoxu代码修改，对使用有疑问请加QQ群：776823471"
   ]
  },
  {
   "cell_type": "markdown",
   "metadata": {
    "collapsed": false
   },
   "source": [
    "**为减少高峰期，在不使用的时候务必到项目首页点击停止**\n",
    "\n",
    "**嘛...搞出来自己玩玩或者给朋友发就行了...还是不要传到b站为好**"
   ]
  },
  {
   "cell_type": "markdown",
   "metadata": {
    "collapsed": false
   },
   "source": [
    "**QQ群：776823471 提供更多口型素材 并负责手把手教学 入群免费代做一次**\n",
    "![](https://ai-studio-static-online.cdn.bcebos.com/1a8186bc7a864faf84084ed222615a11b637be72f9fd4a6b90b7b3e785a3f59a)\n",
    "**部分素材效果演示：**[点我](http://www.bilibili.com/video/BV1z54y127fB)\n"
   ]
  },
  {
   "cell_type": "markdown",
   "metadata": {
    "collapsed": false
   },
   "source": [
    ">**在file文件夹内放素材,将视频更改为import.mp4,图片更改为import.png 视频和图片分辨率:256x256 \n",
    "\n",
    "有时候刷不出file文件夹，自己新建一个就可以了，新建按钮在上传按钮的左边，第二次做，只需要删除要换的素材后上传新的就可以了。"
   ]
  },
  {
   "cell_type": "markdown",
   "metadata": {
    "collapsed": false
   },
   "source": [
    "# **最佳效果方案：**\n",
    "\n",
    "尽量只保留脖子到头发的部分，其他地方不留；图片人物脸的角度参照视频母体的人物角度，建议使用真人，非三次元人类做出来效果会怪怪的\n",
    "\n",
    "**例如：unravel母体的最佳图片是证件照的标准。**\n",
    "\n",
    "![](https://ai-studio-static-online.cdn.bcebos.com/5f486a61622145c49968c07ae2f2c366909f544f105e46aabcb112d6c7c750e9)\n",
    "![](https://ai-studio-static-online.cdn.bcebos.com/0986c2b958ce44439592d952276ad4ced9362c201d1840ceb6dbd91a69df9597)\n",
    "![](https://ai-studio-static-online.cdn.bcebos.com/a84dc5dafd314ed2ac657df4bf7d7881deef718b468c4f8f83c645c16a097e69)\n",
    "\n",
    "![](https://ai-studio-static-online.cdn.bcebos.com/b6e3aad4214f4d71a153e079c4729d37e6693230fc334879ba603e130442943b)\n",
    "![](https://ai-studio-static-online.cdn.bcebos.com/07d6e2bd8c1146e5b421d43d24b400671e1cdd092c704239b874fe1ac031af17)\n",
    "![](https://ai-studio-static-online.cdn.bcebos.com/746437a626754f07bc6012e7b58d758d1f59af5e5e0c4f6088530d3cd205a8bc)\n",
    "\n"
   ]
  },
  {
   "cell_type": "markdown",
   "metadata": {
    "collapsed": false
   },
   "source": [
    "**使用过程中遇到以下提示,重启项目便可**\n",
    "\n",
    "![](https://ai-studio-static-online.cdn.bcebos.com/8e2c76e9c4274c3ba34b266e0d1f0f9fe6c13581515c4b5b9cbc491caa4c4d4e)\n",
    "\n",
    "若不小心误动代码，请重置项目：[点我](https://aistudio.baidu.com/aistudio/projectdetail/986206) 进去后重新运行一次即可\n",
    "\n",
    "\n"
   ]
  },
  {
   "cell_type": "markdown",
   "metadata": {
    "collapsed": false
   },
   "source": [
    "# 代码部分"
   ]
  },
  {
   "cell_type": "code",
   "execution_count": 1,
   "metadata": {
    "collapsed": false
   },
   "outputs": [
    {
     "name": "stdout",
     "output_type": "stream",
     "text": [
      "data51886\r\n"
     ]
    }
   ],
   "source": [
    "#查看数据集\n",
    "!ls /home/aistudio/data"
   ]
  },
  {
   "cell_type": "code",
   "execution_count": 2,
   "metadata": {
    "collapsed": false
   },
   "outputs": [],
   "source": [
    "!ls /home/aistudio/work"
   ]
  },
  {
   "cell_type": "code",
   "execution_count": 3,
   "metadata": {
    "collapsed": false
   },
   "outputs": [],
   "source": [
    "import sys\r\n",
    "sys.path.append('/home/aistudio/external-libraries')\r\n",
    "sys.path.append('/home/aistudio/first-order-model')"
   ]
  },
  {
   "cell_type": "code",
   "execution_count": 4,
   "metadata": {
    "collapsed": false
   },
   "outputs": [
    {
     "name": "stdout",
     "output_type": "stream",
     "text": [
      "Cloning into 'first-order-model'...\n",
      "remote: Enumerating objects: 243, done.\u001b[K\n",
      "remote: Counting objects: 100% (243/243), done.\u001b[K\n",
      "remote: Compressing objects: 100% (123/123), done.\u001b[K\n",
      "Receiving objects:  53% (130/243), 24.77 MiB | 4.56 MiB/s      \r"
     ]
    }
   ],
   "source": [
    "!git clone https://gitee.com/xiaoxu12315/first-order-model.git\r\n",
    "#从码云克隆仓库\r\n",
    "!cd /home/aistudio/first-order-model\r\n",
    "#进入工作目录\r\n",
    "#如果这一步出错可以更换其他源 https://blog.csdn.net/sinat_21591675/article/details/82770360\r\n",
    "#红色报错代码：ERROR: visualdl 2.0.0b8 has requirement Pillow>=7.0.0, but you'll have pillow 5.2.0 which is incompatible. 可以无视 不影响程序执行\r\n",
    "#!pip install -i https://mirrors.aliyun.com/pypi/simple/ moviepy cffi==1.11.5 cloudpickle==1.2.1 cycler==0.10.0 dask==0.18.2 decorator==4.3.0 imageio==2.5.0 kiwisolver==1.0.1 matplotlib==2.2.2 networkx==2.1 numpy==1.15.0 pandas==0.23.4 Pillow==5.2.0 pycparser==2.18 pygit==0.1 pyparsing==2.2.0 python-dateutil==2.7.3 pytz==2018.5 PyWavelets==0.5.2 PyYAML==5.1 scikit-image==0.14.0 scikit-learn==0.19.2 scipy==1.1.0 six==1.14.0 toolz==0.9.0 torch==1.0.0 torchvision==0.2.1 tqdm==4.24.0\r\n",
    "!pip install -i https://mirrors.aliyun.com/pypi/simple/ imageio-ffmpeg scikit-image torch==1.0.0 torchvision==0.2.1\r\n",
    "#安装依赖"
   ]
  },
  {
   "cell_type": "code",
   "execution_count": 5,
   "metadata": {
    "collapsed": false
   },
   "outputs": [],
   "source": [
    "import imageio\r\n",
    "import numpy as np\r\n",
    "import matplotlib.pyplot as plt\r\n",
    "import matplotlib.animation as animation\r\n",
    "from skimage.transform import resize\r\n",
    "from IPython.display import HTML\r\n",
    "import warnings\r\n",
    "warnings.filterwarnings(\"ignore\")\r\n",
    "\r\n",
    "source_image = imageio.imread('file/import.png')\r\n",
    "driving_video = imageio.mimread('file/import.mp4',memtest=False)\r\n",
    "\r\n",
    "\r\n",
    "#调整图片和视频分辨率\r\n",
    "\r\n",
    "source_image = resize(source_image, (256, 256))[..., :3]\r\n",
    "driving_video = [resize(frame, (256, 256))[..., :3] for frame in driving_video]\r\n",
    "\r\n",
    "def display(source, driving, generated=None):\r\n",
    "    fig = plt.figure(figsize=(8 + 4 * (generated is not None), 6))\r\n",
    "\r\n",
    "    ims = []\r\n",
    "    for i in range(len(driving)):\r\n",
    "        cols = [source]\r\n",
    "        cols.append(driving[i])\r\n",
    "        if generated is not None:\r\n",
    "            cols.append(generated[i])\r\n",
    "        im = plt.imshow(np.concatenate(cols, axis=1), animated=True)\r\n",
    "        plt.axis('off')\r\n",
    "        ims.append([im])\r\n",
    "\r\n",
    "    ani = animation.ArtistAnimation(fig, ims, interval=50, repeat_delay=1000)\r\n",
    "    plt.close()\r\n",
    "    return ani\r\n",
    "    \r\n",
    "\r\n",
    "HTML(display(source_image, driving_video).to_html5_video())"
   ]
  },
  {
   "cell_type": "code",
   "execution_count": 6,
   "metadata": {
    "collapsed": false
   },
   "outputs": [],
   "source": [
    "from demo import load_checkpoints\r\n",
    "generator, kp_detector = load_checkpoints(config_path='first-order-model/config/vox-256.yaml', \r\n",
    "                            checkpoint_path='data/data51886/checkpoint.tar')\r\n",
    "                            #加载配置文件并加载数据集"
   ]
  },
  {
   "cell_type": "code",
   "execution_count": 7,
   "metadata": {
    "collapsed": false
   },
   "outputs": [],
   "source": [
    "from demo import make_animation\r\n",
    "from skimage import img_as_ubyte\r\n",
    "\r\n",
    "predictions = make_animation(source_image, driving_video, generator, kp_detector, relative=True)\r\n",
    "\r\n",
    "#保存结果\r\n",
    "imageio.mimsave('work/result 1.mp4', [img_as_ubyte(frame) for frame in predictions])\r\n",
    "\r\n",
    "HTML(display(source_image, driving_video, predictions).to_html5_video())"
   ]
  },
  {
   "cell_type": "code",
   "execution_count": 8,
   "metadata": {
    "collapsed": false
   },
   "outputs": [],
   "source": [
    "import cv2\r\n",
    "from cv2 import VideoWriter,VideoWriter_fourcc\r\n",
    "\r\n",
    "video_root =\"file/import.mp4\"\r\n",
    "cap = cv2.VideoCapture(video_root)\r\n",
    "fps = cap.get(cv2.CAP_PROP_FPS)\r\n",
    "video_width = int(cap.get(cv2.CAP_PROP_FRAME_WIDTH))\r\n",
    "video_height = int(cap.get(cv2.CAP_PROP_FRAME_HEIGHT))\r\n",
    "resize_width = 256\r\n",
    "resize_height = 256\r\n",
    "double_fps = 2*fps"
   ]
  },
  {
   "cell_type": "code",
   "execution_count": 9,
   "metadata": {
    "collapsed": false
   },
   "outputs": [],
   "source": [
    "import cv2\r\n",
    "from cv2 import VideoWriter,VideoWriter_fourcc\r\n",
    "\r\n",
    "video_root =\"work/result 1.mp4\"\r\n",
    "out_root = \"work/result 2.mp4\"\r\n",
    "cap = cv2.VideoCapture(video_root)\r\n",
    "resize_width = 256\r\n",
    "resize_height = 256\r\n",
    "double_fps = 2*fps\r\n",
    "\r\n",
    "fourcc = cv2.VideoWriter_fourcc('m','p','4','v')\r\n",
    "videoWriter = cv2.VideoWriter(out_root,fourcc,fps,(256,256))\r\n",
    "\r\n",
    "success = cap.isOpened()\r\n",
    "while (success):\r\n",
    "    success,frame = cap.read()\r\n",
    "    if not success:\r\n",
    "        break\r\n",
    "    frame = cv2.resize(frame,(256,256))\r\n",
    "    videoWriter.write(frame)\r\n",
    "videoWriter.release()"
   ]
  },
  {
   "cell_type": "code",
   "execution_count": 10,
   "metadata": {
    "collapsed": false
   },
   "outputs": [],
   "source": [
    "from moviepy.editor import *\r\n",
    "\r\n",
    "# 读取2个视频文件 \r\n",
    "videoclip_1 = VideoFileClip(\"file/import.mp4\")\r\n",
    "videoclip_2 = VideoFileClip(\"work/result 2.mp4\")\r\n",
    "\r\n",
    "# 提取第一个视频文件的音频部分\r\n",
    "audio_1 = videoclip_1.audio\r\n",
    "\r\n",
    "# 将提取的音频和第二个视频文件进行合成\r\n",
    "videoclip_3 = videoclip_2.set_audio(audio_1)\r\n",
    "# 输出新的视频文件\r\n",
    "videoclip_3.write_videofile(\"file/export.mp4\", audio_codec=\"aac\")"
   ]
  },
  {
   "cell_type": "markdown",
   "metadata": {
    "collapsed": false
   },
   "source": [
    "\n",
    "![](https://ai-studio-static-online.cdn.bcebos.com/2541267cbea94a4882f7c5baacc40e5fd13384954996462fa6f6feb510d6b01e)\n",
    "<center><font size=\"10\" >许可证:<a target=\"_blank\" href=\"https://creativecommons.org/licenses/by-nc/4.0/\">CC-BY-NC v4.0</a></font></center>\n",
    "\n",
    "\n"
   ]
  }
 ],
 "metadata": {
  "kernelspec": {
   "display_name": "PaddlePaddle 1.8.0 (Python 3.5)",
   "language": "python",
   "name": "py35-paddle1.2.0"
  },
  "language_info": {
   "codemirror_mode": {
    "name": "ipython",
    "version": 3
   },
   "file_extension": ".py",
   "mimetype": "text/x-python",
   "name": "python",
   "nbconvert_exporter": "python",
   "pygments_lexer": "ipython3",
   "version": "3.7.4"
  }
 },
 "nbformat": 4,
 "nbformat_minor": 1
}
